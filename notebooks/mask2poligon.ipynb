{
 "cells": [
  {
   "cell_type": "code",
   "execution_count": 17,
   "metadata": {},
   "outputs": [],
   "source": [
    "import cv2\n",
    "import numpy as np\n",
    "from tqdm import tqdm\n",
    "import os\n",
    "import sys\n",
    "import random\n",
    "import math\n",
    "import re\n",
    "import time\n",
    "import numpy as np\n",
    "import cv2\n",
    "import matplotlib.pyplot as plt\n",
    "import json\n",
    "import pandas as pd"
   ]
  },
  {
   "cell_type": "code",
   "execution_count": 24,
   "metadata": {},
   "outputs": [
    {
     "name": "stderr",
     "output_type": "stream",
     "text": [
      "Cloning into 'Mask_RCNN-TF2'...\n"
     ]
    }
   ],
   "source": [
    "!git clone https://github.com/alsombra/Mask_RCNN-TF2"
   ]
  },
  {
   "cell_type": "markdown",
   "metadata": {},
   "source": [
    "## gerando masks\n"
   ]
  },
  {
   "cell_type": "code",
   "execution_count": 4,
   "metadata": {},
   "outputs": [
    {
     "ename": "NameError",
     "evalue": "name 'impath' is not defined",
     "output_type": "error",
     "traceback": [
      "\u001b[1;31m---------------------------------------------------------------------------\u001b[0m",
      "\u001b[1;31mNameError\u001b[0m                                 Traceback (most recent call last)",
      "\u001b[1;32md:\\TCC\\TCC_modelos\\notebooks\\mask2poligon.ipynb Cell 2\u001b[0m line \u001b[0;36m2\n\u001b[0;32m     <a href='vscode-notebook-cell:/d%3A/TCC/TCC_modelos/notebooks/mask2poligon.ipynb#W1sZmlsZQ%3D%3D?line=21'>22</a>\u001b[0m     \u001b[39mreturn\u001b[39;00m polygons\n\u001b[0;32m     <a href='vscode-notebook-cell:/d%3A/TCC/TCC_modelos/notebooks/mask2poligon.ipynb#W1sZmlsZQ%3D%3D?line=23'>24</a>\u001b[0m \u001b[39m# main function\u001b[39;00m\n\u001b[1;32m---> <a href='vscode-notebook-cell:/d%3A/TCC/TCC_modelos/notebooks/mask2poligon.ipynb#W1sZmlsZQ%3D%3D?line=24'>25</a>\u001b[0m image\u001b[39m=\u001b[39mcv2\u001b[39m.\u001b[39mimread(impath)\n\u001b[0;32m     <a href='vscode-notebook-cell:/d%3A/TCC/TCC_modelos/notebooks/mask2poligon.ipynb#W1sZmlsZQ%3D%3D?line=25'>26</a>\u001b[0m results \u001b[39m=\u001b[39m model\u001b[39m.\u001b[39mdetect([image], verbose\u001b[39m=\u001b[39m\u001b[39m1\u001b[39m)\n\u001b[0;32m     <a href='vscode-notebook-cell:/d%3A/TCC/TCC_modelos/notebooks/mask2poligon.ipynb#W1sZmlsZQ%3D%3D?line=26'>27</a>\u001b[0m polygons\u001b[39m=\u001b[39mmask2polygon(image,results[\u001b[39m0\u001b[39m][\u001b[39m'\u001b[39m\u001b[39mmasks\u001b[39m\u001b[39m'\u001b[39m])\n",
      "\u001b[1;31mNameError\u001b[0m: name 'impath' is not defined"
     ]
    }
   ],
   "source": [
    "# def mask2polygon(image,masks):\n",
    "#     _,_,numasks=masks.shape\n",
    "#     image_copy = image.copy()\n",
    "#     polygons=[]\n",
    "#     if numasks==0:\n",
    "#         print('Null predictions')\n",
    "#         return []\n",
    "#     elif numasks!=0:\n",
    "#         print(f'Number of masks predicted : {numasks}')\n",
    "#         for i in range(numasks):\n",
    "#             mask_reformed=masks[:,:,i].astype(\"uint8\")\n",
    "#             if np.sum(mask_reformed==1): # if mask is not empty - i.e. filled with zeros only, then proceed ..  \n",
    "#                 contours, _ = cv2.findContours(image=mask_reformed,mode=cv2.RETR_EXTERNAL, method=cv2.CHAIN_APPROX_SIMPLE) # or you can also method=cv2.CHAIN_APPROX_NONE\n",
    "                \n",
    "#                 # check the contours\n",
    "#                 cv2.drawContours(image=image_copy, contours=contours, contourIdx=-1, color=(0, 255, 0), thickness=2, lineType=cv2.LINE_AA) # check the contours\n",
    "\n",
    "#                 polygons.append(contours)\n",
    "\n",
    "#      # check the contours\n",
    "#     cv2.imwrite(savepath,image_copy) \n",
    "#     return polygons\n",
    "\n",
    "# # main function\n",
    "# image=cv2.imread(impath)\n",
    "# results = model.detect([image], verbose=1)\n",
    "# polygons=mask2polygon(image,results[0]['masks']) # image is passsed as an param just for checking the results of the function - you may remove it latter"
   ]
  },
  {
   "cell_type": "code",
   "execution_count": 18,
   "metadata": {},
   "outputs": [],
   "source": [
    "\n",
    "\n",
    "\n",
    "# # Exemplo de dados de entrada para o dataset \"38 cloud\"\n",
    "# dataset_path = \"D:/TCC/selection_cloud/38-cloud/38-Cloud_training/\"\n",
    "\n",
    "# coco_images = []\n",
    "# coco_annotations = []\n",
    "# category_id = 1  # Apenas uma classe (nuvens)\n",
    "\n",
    "\n"
   ]
  },
  {
   "cell_type": "code",
   "execution_count": 19,
   "metadata": {},
   "outputs": [],
   "source": [
    "# def binary_mask_to_coco_format(binary_mask, image_id, category_id):\n",
    "#     contours, _ = cv2.findContours(binary_mask, cv2.RETR_EXTERNAL, cv2.CHAIN_APPROX_SIMPLE)\n",
    "\n",
    "#     if len(contours) > 0:\n",
    "#         segmentation = []\n",
    "#         for contour in contours:\n",
    "#             segmentation.append(contour.flatten().tolist())\n",
    "\n",
    "#         area = cv2.contourArea(contours[0])\n",
    "#         bbox = cv2.boundingRect(contours[0])\n",
    "\n",
    "#         annotation = {\n",
    "#             \"id\": len(coco_annotations) + 1,\n",
    "#             \"image_id\": image_id,\n",
    "#             \"category_id\": category_id,\n",
    "#             \"segmentation\": segmentation,\n",
    "#             \"area\": area,\n",
    "#             \"bbox\": bbox,\n",
    "#             \"iscrowd\": 0\n",
    "#         }\n",
    "\n",
    "#         coco_annotations.append(annotation)"
   ]
  },
  {
   "cell_type": "code",
   "execution_count": null,
   "metadata": {},
   "outputs": [],
   "source": [
    "# for id,image_id in enumerate(os.listdir(f\"{dataset_path}train_gt\")): \n",
    "\n",
    "#     binary_mask_path = f\"{dataset_path}train_gt/{image_id}\"\n",
    "\n",
    "#     # Carregue a máscara binária\n",
    "#     binary_mask = cv2.imread(binary_mask_path, cv2.IMREAD_GRAYSCALE)\n",
    "\n",
    "#     # Converta para o formato COCO\n",
    "#     binary_mask_to_coco_format(binary_mask, image_id, category_id)\n",
    "\n",
    "#     # Adicione informações da imagem ao objeto COCO\n",
    "#     coco_images.append({\"id\": id, \"file_name\": f\"{image_id}\"})\n",
    "    \n",
    "\n",
    "# coco_data = {\n",
    "#     \"images\": coco_images,\n",
    "#     \"annotations\": coco_annotations,\n",
    "#     \"categories\": [{\"id\": category_id, \"name\": \"nuvens\"}]\n",
    "# }\n",
    "\n",
    "# with open(\"output_coco.json\", \"w\") as json_file:\n",
    "#     json.dump(coco_data, json_file)"
   ]
  },
  {
   "cell_type": "code",
   "execution_count": 23,
   "metadata": {},
   "outputs": [
    {
     "name": "stdout",
     "output_type": "stream",
     "text": [
      "D:/TCC/selection_cloud/38-cloud/38-Cloud_training//train_gt\\gt_patch_107_5_by_19_LC08_L1TP_063016_20160920_20170221_01_T1.TIF\n"
     ]
    },
    {
     "data": {
      "image/png": "[encoded data removed]",
      "text/plain": [
       "<Figure size 1200x400 with 3 Axes>"
      ]
     },
     "metadata": {},
     "output_type": "display_data"
    }
   ],
   "source": [
    "# import cv2\n",
    "# import json\n",
    "# import matplotlib.pyplot as plt\n",
    "# from matplotlib.patches import Polygon\n",
    "\n",
    "# def visualize_mask_from_json(json_file_path, image_folder, image_number):\n",
    "#     # Carrega o JSON\n",
    "#     with open(json_file_path, 'r') as json_file:\n",
    "#         coco_data = json.load(json_file)\n",
    "\n",
    "#     # Encontra a entrada correspondente ao número da imagem\n",
    "#     image_info = None\n",
    "#     for image in coco_data['images']:\n",
    "#         if image['id'] == image_number:\n",
    "#             image_info = image\n",
    "#             break\n",
    "\n",
    "#     if image_info is None:\n",
    "#         print(f\"Imagem com o número {image_number} não encontrada no conjunto de dados.\")\n",
    "#         return\n",
    "\n",
    "#     # Obtém as anotações correspondentes a essa imagem\n",
    "#     annotations = [ann for ann in coco_data['annotations'] if ann['image_id'] == image_number]\n",
    "\n",
    "#     # Carrega a imagem original\n",
    "#     image_path = os.path.join(image_folder, image_info['file_name'])\n",
    "#     original_image = cv2.imread(image_path)\n",
    "#     print(image_path)\n",
    "\n",
    "#     # Inicializa uma imagem em branco para a máscara\n",
    "#     mask = np.zeros_like(original_image[:, :, 0], dtype=np.uint8)\n",
    "\n",
    "#     # Adiciona cada máscara à imagem em branco\n",
    "#     for annotation in annotations:\n",
    "#         segmentation = annotation['segmentation']\n",
    "#         polygon = np.array(segmentation).reshape((len(segmentation)//2, 2))\n",
    "#         polygon = polygon.astype(int)\n",
    "\n",
    "#         # Desenha a máscara na imagem em branco\n",
    "#         cv2.fillPoly(mask, [polygon], 255)\n",
    "\n",
    "#     # Sobreponha a máscara à imagem original\n",
    "#     masked_image = cv2.bitwise_and(original_image, original_image, mask=mask)\n",
    "\n",
    "#     # Exibe a imagem original, a máscara e a imagem sobreposta\n",
    "#     plt.figure(figsize=(12, 4))\n",
    "\n",
    "#     plt.subplot(131)\n",
    "#     plt.imshow(cv2.cvtColor(original_image, cv2.COLOR_BGR2RGB))\n",
    "#     plt.title('Imagem Original')\n",
    "\n",
    "#     plt.subplot(132)\n",
    "#     plt.imshow(mask, cmap='gray')\n",
    "#     plt.title('Máscara')\n",
    "\n",
    "#     plt.subplot(133)\n",
    "#     plt.imshow(cv2.cvtColor(masked_image, cv2.COLOR_BGR2RGB))\n",
    "#     plt.title('Imagem com Máscara')\n",
    "\n",
    "#     plt.show()\n",
    "\n",
    "# # Exemplo de uso (substitua 1 pelo número da imagem desejada)\n",
    "# visualize_mask_from_json('output_coco.json', dataset_path+\"/train_gt\", 130)\n"
   ]
  },
  {
   "cell_type": "code",
   "execution_count": null,
   "metadata": {},
   "outputs": [],
   "source": []
  }
 ],
 "metadata": {
  "kernelspec": {
   "display_name": "TCC",
   "language": "python",
   "name": "python3"
  },
  "language_info": {
   "codemirror_mode": {
    "name": "ipython",
    "version": 3
   },
   "file_extension": ".py",
   "mimetype": "text/x-python",
   "name": "python",
   "nbconvert_exporter": "python",
   "pygments_lexer": "ipython3",
   "version": "3.10.12"
  }
 },
 "nbformat": 4,
 "nbformat_minor": 2
}
